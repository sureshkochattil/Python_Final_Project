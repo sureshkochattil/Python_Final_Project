{
 "cells": [
  {
   "cell_type": "code",
   "execution_count": 2401,
   "metadata": {},
   "outputs": [],
   "source": [
    "# Load the Pandas libraries with alias 'pd' \n",
    "import pandas as pd\n",
    "import numpy as np\n",
    "import statistics\n",
    "import os"
   ]
  },
  {
   "cell_type": "code",
   "execution_count": 2402,
   "metadata": {},
   "outputs": [
    {
     "data": {
      "text/plain": [
       "'C:\\\\Users\\\\sures'"
      ]
     },
     "execution_count": 2402,
     "metadata": {},
     "output_type": "execute_result"
    }
   ],
   "source": [
    "#Get the Working Directory\n",
    "os.getcwd()"
   ]
  },
  {
   "cell_type": "code",
   "execution_count": 2403,
   "metadata": {},
   "outputs": [],
   "source": [
    "# Read data from file 'filename.csv' \n",
    "# (in the same directory that your python process is based)\n",
    "breast_cancer_file = pd.read_csv('Breast-Cancer-Wisconsin.csv')"
   ]
  },
  {
   "cell_type": "code",
   "execution_count": 2404,
   "metadata": {},
   "outputs": [
    {
     "data": {
      "text/html": [
       "<div>\n",
       "<style scoped>\n",
       "    .dataframe tbody tr th:only-of-type {\n",
       "        vertical-align: middle;\n",
       "    }\n",
       "\n",
       "    .dataframe tbody tr th {\n",
       "        vertical-align: top;\n",
       "    }\n",
       "\n",
       "    .dataframe thead th {\n",
       "        text-align: right;\n",
       "    }\n",
       "</style>\n",
       "<table border=\"1\" class=\"dataframe\">\n",
       "  <thead>\n",
       "    <tr style=\"text-align: right;\">\n",
       "      <th></th>\n",
       "      <th>Scn</th>\n",
       "      <th>A2</th>\n",
       "      <th>A3</th>\n",
       "      <th>A4</th>\n",
       "      <th>A5</th>\n",
       "      <th>A6</th>\n",
       "      <th>A7</th>\n",
       "      <th>A8</th>\n",
       "      <th>A9</th>\n",
       "      <th>A10</th>\n",
       "      <th>CLASS</th>\n",
       "    </tr>\n",
       "  </thead>\n",
       "  <tbody>\n",
       "    <tr>\n",
       "      <th>0</th>\n",
       "      <td>1000025</td>\n",
       "      <td>5</td>\n",
       "      <td>1</td>\n",
       "      <td>1</td>\n",
       "      <td>1</td>\n",
       "      <td>2</td>\n",
       "      <td>1</td>\n",
       "      <td>3</td>\n",
       "      <td>1</td>\n",
       "      <td>1</td>\n",
       "      <td>2</td>\n",
       "    </tr>\n",
       "    <tr>\n",
       "      <th>1</th>\n",
       "      <td>1002945</td>\n",
       "      <td>5</td>\n",
       "      <td>4</td>\n",
       "      <td>4</td>\n",
       "      <td>5</td>\n",
       "      <td>7</td>\n",
       "      <td>10</td>\n",
       "      <td>3</td>\n",
       "      <td>2</td>\n",
       "      <td>1</td>\n",
       "      <td>2</td>\n",
       "    </tr>\n",
       "    <tr>\n",
       "      <th>2</th>\n",
       "      <td>1015425</td>\n",
       "      <td>3</td>\n",
       "      <td>1</td>\n",
       "      <td>1</td>\n",
       "      <td>1</td>\n",
       "      <td>2</td>\n",
       "      <td>2</td>\n",
       "      <td>3</td>\n",
       "      <td>1</td>\n",
       "      <td>1</td>\n",
       "      <td>2</td>\n",
       "    </tr>\n",
       "    <tr>\n",
       "      <th>3</th>\n",
       "      <td>1016277</td>\n",
       "      <td>6</td>\n",
       "      <td>8</td>\n",
       "      <td>8</td>\n",
       "      <td>1</td>\n",
       "      <td>3</td>\n",
       "      <td>4</td>\n",
       "      <td>3</td>\n",
       "      <td>7</td>\n",
       "      <td>1</td>\n",
       "      <td>2</td>\n",
       "    </tr>\n",
       "    <tr>\n",
       "      <th>4</th>\n",
       "      <td>1017023</td>\n",
       "      <td>4</td>\n",
       "      <td>1</td>\n",
       "      <td>1</td>\n",
       "      <td>3</td>\n",
       "      <td>2</td>\n",
       "      <td>1</td>\n",
       "      <td>3</td>\n",
       "      <td>1</td>\n",
       "      <td>1</td>\n",
       "      <td>2</td>\n",
       "    </tr>\n",
       "  </tbody>\n",
       "</table>\n",
       "</div>"
      ],
      "text/plain": [
       "       Scn  A2  A3  A4  A5  A6  A7  A8  A9  A10  CLASS\n",
       "0  1000025   5   1   1   1   2   1   3   1    1      2\n",
       "1  1002945   5   4   4   5   7  10   3   2    1      2\n",
       "2  1015425   3   1   1   1   2   2   3   1    1      2\n",
       "3  1016277   6   8   8   1   3   4   3   7    1      2\n",
       "4  1017023   4   1   1   3   2   1   3   1    1      2"
      ]
     },
     "execution_count": 2404,
     "metadata": {},
     "output_type": "execute_result"
    }
   ],
   "source": [
    "# Preview the first 5 lines of the loaded data \n",
    "breast_cancer_file.head()"
   ]
  },
  {
   "cell_type": "code",
   "execution_count": 2405,
   "metadata": {},
   "outputs": [
    {
     "name": "stdout",
     "output_type": "stream",
     "text": [
      "         Scn  A2  A3  A4  A5  A6   A7  A8  A9  A10  CLASS\n",
      "0    1000025   5   1   1   1   2    1   3   1    1      2\n",
      "1    1002945   5   4   4   5   7   10   3   2    1      2\n",
      "2    1015425   3   1   1   1   2    2   3   1    1      2\n",
      "3    1016277   6   8   8   1   3    4   3   7    1      2\n",
      "4    1017023   4   1   1   3   2    1   3   1    1      2\n",
      "5    1017122   8  10  10   8   7   10   9   7    1      4\n",
      "6    1018099   1   1   1   1   2   10   3   1    1      2\n",
      "7    1018561   2   1   2   1   2    1   3   1    1      2\n",
      "8    1033078   2   1   1   1   2    1   1   1    5      2\n",
      "9    1033078   4   2   1   1   2    1   2   1    1      2\n",
      "10   1035283   1   1   1   1   1    1   3   1    1      2\n",
      "11   1036172   2   1   1   1   2    1   2   1    1      2\n",
      "12   1041801   5   3   3   3   2    3   4   4    1      4\n",
      "13   1043999   1   1   1   1   2    3   3   1    1      2\n",
      "14   1044572   8   7   5  10   7    9   5   5    4      4\n",
      "15   1047630   7   4   6   4   6    1   4   3    1      4\n",
      "16   1048672   4   1   1   1   2    1   2   1    1      2\n",
      "17   1049815   4   1   1   1   2    1   3   1    1      2\n",
      "18   1050670  10   7   7   6   4   10   4   1    2      4\n",
      "19   1050718   6   1   1   1   2    1   3   1    1      2\n",
      "20   1054590   7   3   2  10   5   10   5   4    4      4\n",
      "21   1054593  10   5   5   3   6    7   7  10    1      4\n",
      "22   1056784   3   1   1   1   2    1   2   1    1      2\n",
      "23   1057013   8   4   5   1   2  NaN   7   3    1      4\n",
      "24   1059552   1   1   1   1   2    1   3   1    1      2\n",
      "25   1065726   5   2   3   4   2    7   3   6    1      4\n",
      "26   1066373   3   2   1   1   1    1   2   1    1      2\n",
      "27   1066979   5   1   1   1   2    1   2   1    1      2\n",
      "28   1067444   2   1   1   1   2    1   2   1    1      2\n",
      "29   1070935   1   1   3   1   2    1   1   1    1      2\n",
      "..       ...  ..  ..  ..  ..  ..  ...  ..  ..  ...    ...\n",
      "669  1350423   5  10  10   8   5    5   7  10    1      4\n",
      "670  1352848   3  10   7   8   5    8   7   4    1      4\n",
      "671  1353092   3   2   1   2   2    1   3   1    1      2\n",
      "672  1354840   2   1   1   1   2    1   3   1    1      2\n",
      "673  1354840   5   3   2   1   3    1   1   1    1      2\n",
      "674  1355260   1   1   1   1   2    1   2   1    1      2\n",
      "675  1365075   4   1   4   1   2    1   1   1    1      2\n",
      "676  1365328   1   1   2   1   2    1   2   1    1      2\n",
      "677  1368267   5   1   1   1   2    1   1   1    1      2\n",
      "678  1368273   1   1   1   1   2    1   1   1    1      2\n",
      "679  1368882   2   1   1   1   2    1   1   1    1      2\n",
      "680  1369821  10  10  10  10   5   10  10  10    7      4\n",
      "681  1371026   5  10  10  10   4   10   5   6    3      4\n",
      "682  1371920   5   1   1   1   2    1   3   2    1      2\n",
      "683   466906   1   1   1   1   2    1   1   1    1      2\n",
      "684   466906   1   1   1   1   2    1   1   1    1      2\n",
      "685   534555   1   1   1   1   2    1   1   1    1      2\n",
      "686   536708   1   1   1   1   2    1   1   1    1      2\n",
      "687   566346   3   1   1   1   2    1   2   3    1      2\n",
      "688   603148   4   1   1   1   2    1   1   1    1      2\n",
      "689   654546   1   1   1   1   2    1   1   1    8      2\n",
      "690   654546   1   1   1   3   2    1   1   1    1      2\n",
      "691   695091   5  10  10   5   4    5   4   4    1      4\n",
      "692   714039   3   1   1   1   2    1   1   1    1      2\n",
      "693   763235   3   1   1   1   2    1   2   1    2      2\n",
      "694   776715   3   1   1   1   3    2   1   1    1      2\n",
      "695   841769   2   1   1   1   2    1   1   1    1      2\n",
      "696   888820   5  10  10   3   7    3   8  10    2      4\n",
      "697   897471   4   8   6   4   3    4  10   6    1      4\n",
      "698   897471   4   8   8   5   4    5  10   4    1      4\n",
      "\n",
      "[699 rows x 11 columns]\n"
     ]
    }
   ],
   "source": [
    "#Replace ? with NaN\n",
    "breast_cancer_file [\"A7\"] = breast_cancer_file[\"A7\"].replace('?',np.NaN)\n",
    "print (breast_cancer_file)"
   ]
  },
  {
   "cell_type": "code",
   "execution_count": 2406,
   "metadata": {
    "scrolled": true
   },
   "outputs": [],
   "source": [
    "# convert column \"A7\" of a DataFrame\n",
    "breast_cancer_file[\"A7\"] = pd.to_numeric(breast_cancer_file['A7'])"
   ]
  },
  {
   "cell_type": "code",
   "execution_count": 2407,
   "metadata": {
    "scrolled": true
   },
   "outputs": [
    {
     "name": "stdout",
     "output_type": "stream",
     "text": [
      "16\n"
     ]
    }
   ],
   "source": [
    "#Count Missing Values\n",
    "missing_value_count = breast_cancer_file[\"A7\"].isnull().sum()\n",
    "print(missing_value_count)"
   ]
  },
  {
   "cell_type": "code",
   "execution_count": 2408,
   "metadata": {},
   "outputs": [],
   "source": [
    "#replace NaN values with mean value of the column 7 and use the parameter skipna=True\n",
    "breast_cancer_file = breast_cancer_file.fillna(value = breast_cancer_file[\"A7\"].mean(skipna = True))"
   ]
  },
  {
   "cell_type": "code",
   "execution_count": 2409,
   "metadata": {},
   "outputs": [],
   "source": [
    "#Apply the above functions to the entire dataframe\n",
    "breast_cancer_file_replace_all = breast_cancer_file.replace('?',np.NaN)\n",
    "convert_numeric_all = breast_cancer_file_replace_all.apply(pd.to_numeric)\n",
    "convert_mean_all = convert_numeric_all.fillna(convert_numeric_all.mean(skipna = True))"
   ]
  },
  {
   "cell_type": "code",
   "execution_count": 2410,
   "metadata": {},
   "outputs": [
    {
     "data": {
      "text/html": [
       "<div>\n",
       "<style scoped>\n",
       "    .dataframe tbody tr th:only-of-type {\n",
       "        vertical-align: middle;\n",
       "    }\n",
       "\n",
       "    .dataframe tbody tr th {\n",
       "        vertical-align: top;\n",
       "    }\n",
       "\n",
       "    .dataframe thead th {\n",
       "        text-align: right;\n",
       "    }\n",
       "</style>\n",
       "<table border=\"1\" class=\"dataframe\">\n",
       "  <thead>\n",
       "    <tr style=\"text-align: right;\">\n",
       "      <th></th>\n",
       "      <th>Scn</th>\n",
       "      <th>A2</th>\n",
       "      <th>A3</th>\n",
       "      <th>A4</th>\n",
       "      <th>A5</th>\n",
       "      <th>A6</th>\n",
       "      <th>A7</th>\n",
       "      <th>A8</th>\n",
       "      <th>A9</th>\n",
       "      <th>A10</th>\n",
       "      <th>CLASS</th>\n",
       "    </tr>\n",
       "  </thead>\n",
       "  <tbody>\n",
       "    <tr>\n",
       "      <th>count</th>\n",
       "      <td>6.990000e+02</td>\n",
       "      <td>699.000000</td>\n",
       "      <td>699.000000</td>\n",
       "      <td>699.000000</td>\n",
       "      <td>699.000000</td>\n",
       "      <td>699.000000</td>\n",
       "      <td>699.000000</td>\n",
       "      <td>699.000000</td>\n",
       "      <td>699.000000</td>\n",
       "      <td>699.000000</td>\n",
       "      <td>699.000000</td>\n",
       "    </tr>\n",
       "    <tr>\n",
       "      <th>mean</th>\n",
       "      <td>1.071704e+06</td>\n",
       "      <td>4.417740</td>\n",
       "      <td>3.134478</td>\n",
       "      <td>3.207439</td>\n",
       "      <td>2.806867</td>\n",
       "      <td>3.216023</td>\n",
       "      <td>3.544656</td>\n",
       "      <td>3.437768</td>\n",
       "      <td>2.866953</td>\n",
       "      <td>1.589413</td>\n",
       "      <td>2.689557</td>\n",
       "    </tr>\n",
       "    <tr>\n",
       "      <th>std</th>\n",
       "      <td>6.170957e+05</td>\n",
       "      <td>2.815741</td>\n",
       "      <td>3.051459</td>\n",
       "      <td>2.971913</td>\n",
       "      <td>2.855379</td>\n",
       "      <td>2.214300</td>\n",
       "      <td>3.601852</td>\n",
       "      <td>2.438364</td>\n",
       "      <td>3.053634</td>\n",
       "      <td>1.715078</td>\n",
       "      <td>0.951273</td>\n",
       "    </tr>\n",
       "    <tr>\n",
       "      <th>min</th>\n",
       "      <td>6.163400e+04</td>\n",
       "      <td>1.000000</td>\n",
       "      <td>1.000000</td>\n",
       "      <td>1.000000</td>\n",
       "      <td>1.000000</td>\n",
       "      <td>1.000000</td>\n",
       "      <td>1.000000</td>\n",
       "      <td>1.000000</td>\n",
       "      <td>1.000000</td>\n",
       "      <td>1.000000</td>\n",
       "      <td>2.000000</td>\n",
       "    </tr>\n",
       "    <tr>\n",
       "      <th>25%</th>\n",
       "      <td>8.706885e+05</td>\n",
       "      <td>2.000000</td>\n",
       "      <td>1.000000</td>\n",
       "      <td>1.000000</td>\n",
       "      <td>1.000000</td>\n",
       "      <td>2.000000</td>\n",
       "      <td>1.000000</td>\n",
       "      <td>2.000000</td>\n",
       "      <td>1.000000</td>\n",
       "      <td>1.000000</td>\n",
       "      <td>2.000000</td>\n",
       "    </tr>\n",
       "    <tr>\n",
       "      <th>50%</th>\n",
       "      <td>1.171710e+06</td>\n",
       "      <td>4.000000</td>\n",
       "      <td>1.000000</td>\n",
       "      <td>1.000000</td>\n",
       "      <td>1.000000</td>\n",
       "      <td>2.000000</td>\n",
       "      <td>1.000000</td>\n",
       "      <td>3.000000</td>\n",
       "      <td>1.000000</td>\n",
       "      <td>1.000000</td>\n",
       "      <td>2.000000</td>\n",
       "    </tr>\n",
       "    <tr>\n",
       "      <th>75%</th>\n",
       "      <td>1.238298e+06</td>\n",
       "      <td>6.000000</td>\n",
       "      <td>5.000000</td>\n",
       "      <td>5.000000</td>\n",
       "      <td>4.000000</td>\n",
       "      <td>4.000000</td>\n",
       "      <td>5.000000</td>\n",
       "      <td>5.000000</td>\n",
       "      <td>4.000000</td>\n",
       "      <td>1.000000</td>\n",
       "      <td>4.000000</td>\n",
       "    </tr>\n",
       "    <tr>\n",
       "      <th>max</th>\n",
       "      <td>1.345435e+07</td>\n",
       "      <td>10.000000</td>\n",
       "      <td>10.000000</td>\n",
       "      <td>10.000000</td>\n",
       "      <td>10.000000</td>\n",
       "      <td>10.000000</td>\n",
       "      <td>10.000000</td>\n",
       "      <td>10.000000</td>\n",
       "      <td>10.000000</td>\n",
       "      <td>10.000000</td>\n",
       "      <td>4.000000</td>\n",
       "    </tr>\n",
       "  </tbody>\n",
       "</table>\n",
       "</div>"
      ],
      "text/plain": [
       "                Scn          A2          A3          A4          A5  \\\n",
       "count  6.990000e+02  699.000000  699.000000  699.000000  699.000000   \n",
       "mean   1.071704e+06    4.417740    3.134478    3.207439    2.806867   \n",
       "std    6.170957e+05    2.815741    3.051459    2.971913    2.855379   \n",
       "min    6.163400e+04    1.000000    1.000000    1.000000    1.000000   \n",
       "25%    8.706885e+05    2.000000    1.000000    1.000000    1.000000   \n",
       "50%    1.171710e+06    4.000000    1.000000    1.000000    1.000000   \n",
       "75%    1.238298e+06    6.000000    5.000000    5.000000    4.000000   \n",
       "max    1.345435e+07   10.000000   10.000000   10.000000   10.000000   \n",
       "\n",
       "               A6          A7          A8          A9         A10       CLASS  \n",
       "count  699.000000  699.000000  699.000000  699.000000  699.000000  699.000000  \n",
       "mean     3.216023    3.544656    3.437768    2.866953    1.589413    2.689557  \n",
       "std      2.214300    3.601852    2.438364    3.053634    1.715078    0.951273  \n",
       "min      1.000000    1.000000    1.000000    1.000000    1.000000    2.000000  \n",
       "25%      2.000000    1.000000    2.000000    1.000000    1.000000    2.000000  \n",
       "50%      2.000000    1.000000    3.000000    1.000000    1.000000    2.000000  \n",
       "75%      4.000000    5.000000    5.000000    4.000000    1.000000    4.000000  \n",
       "max     10.000000   10.000000   10.000000   10.000000   10.000000    4.000000  "
      ]
     },
     "execution_count": 2410,
     "metadata": {},
     "output_type": "execute_result"
    }
   ],
   "source": [
    "#provide the summary statistic\n",
    "convert_mean_all.describe(percentiles=None, include=None, exclude=None)"
   ]
  },
  {
   "cell_type": "code",
   "execution_count": 2411,
   "metadata": {},
   "outputs": [
    {
     "name": "stdout",
     "output_type": "stream",
     "text": [
      "Number of rows: 699\n",
      "Number of columns: 11\n"
     ]
    }
   ],
   "source": [
    "# Find the number of rows and columns. use a proper index for column and row (consult pandas). \n",
    "# Report how many observations (row) and columns\n",
    "convert_mean_all.shape\n",
    "n_rows = convert_mean_all.shape[0]\n",
    "n_col = convert_mean_all.shape[1]\n",
    "print(\"Number of rows:\",n_rows)\n",
    "print(\"Number of columns:\", n_col)"
   ]
  },
  {
   "cell_type": "code",
   "execution_count": 2412,
   "metadata": {},
   "outputs": [
    {
     "name": "stdout",
     "output_type": "stream",
     "text": [
      "645\n"
     ]
    }
   ],
   "source": [
    "#Report how many unique id values (column Scn) - hint the length of unique ids\n",
    "unique_ids = len(convert_mean_all['Scn'].unique()) \n",
    "print(unique_ids)"
   ]
  },
  {
   "cell_type": "code",
   "execution_count": 2413,
   "metadata": {},
   "outputs": [
    {
     "data": {
      "image/png": "[encoded data removed]",
      "text/plain": [
       "<Figure size 432x288 with 9 Axes>"
      ]
     },
     "metadata": {
      "needs_background": "light"
     },
     "output_type": "display_data"
    }
   ],
   "source": [
    "#Draw histograms for columns A2-A10\n",
    "slice_convert_mean_all = convert_mean_all.loc[:,'A2':'A10']\n",
    "hist_cancer = slice_convert_mean_all.hist(column=None, by=None, grid=False, bins=8,facecolor='green',alpha=2)\n",
    "plt.tight_layout(rect=[1, 1, 3.2, 3.2])\n",
    "plt.show()"
   ]
  },
  {
   "cell_type": "code",
   "execution_count": 2414,
   "metadata": {},
   "outputs": [
    {
     "data": {
      "image/png": "[encoded data removed]",
      "text/plain": [
       "<Figure size 432x288 with 1 Axes>"
      ]
     },
     "metadata": {
      "needs_background": "light"
     },
     "output_type": "display_data"
    }
   ],
   "source": [
    "#Draw a bar plot for CLASS - you can use groupby to see counts of  benign and malignant \n",
    "#values or you can count values directly using pd.value_counts() function and apply it to plot.bar() function.\n",
    "pd.value_counts(convert_mean_all[\"CLASS\"]).plot.bar(x=None, y=None)\n",
    "plt.ylabel('Frequency')\n",
    "plt.xlabel('Class')\n",
    "plt.title('Class-Benign/Malignant')\n",
    "plt.show()"
   ]
  },
  {
   "cell_type": "code",
   "execution_count": 2415,
   "metadata": {},
   "outputs": [
    {
     "data": {
      "image/png": "[encoded data removed]",
      "text/plain": [
       "<Figure size 432x288 with 1 Axes>"
      ]
     },
     "metadata": {
      "needs_background": "light"
     },
     "output_type": "display_data"
    }
   ],
   "source": [
    "#Draw a scatterplot of any two columns\n",
    "convert_mean_all.plot.scatter('A2', 'A3', s=None, c='DarkRed')\n",
    "plt.ylabel('Uniformity of Cell Size')\n",
    "plt.xlabel('Clump Thickness')\n",
    "plt.title('Breast Cancer')\n",
    "plt.show()"
   ]
  },
  {
   "cell_type": "code",
   "execution_count": 2416,
   "metadata": {},
   "outputs": [],
   "source": [
    "# Summary\n",
    "#1. The data quality seems reasonably good with only 16 values missing\n",
    "#2. The unique id count of 645 out of 699 indicate not too many replications\n",
    "#3. The standard deviations of a few columns like A3(uniformity of cell size) and A9 (normal nuclei)seems high\n"
   ]
  },
  {
   "cell_type": "code",
   "execution_count": 2417,
   "metadata": {},
   "outputs": [],
   "source": [
    "#Phase 2\n",
    "#Import KMeans\n",
    "import matplotlib.pyplot as plt\n",
    "#Import matplotlib\n",
    "from sklearn.cluster import KMeans"
   ]
  },
  {
   "cell_type": "code",
   "execution_count": 2418,
   "metadata": {},
   "outputs": [
    {
     "data": {
      "text/plain": [
       "KMeans(algorithm='auto', copy_x=True, init='k-means++', max_iter=300,\n",
       "    n_clusters=4, n_init=10, n_jobs=1, precompute_distances='auto',\n",
       "    random_state=None, tol=0.0001, verbose=0)"
      ]
     },
     "execution_count": 2418,
     "metadata": {},
     "output_type": "execute_result"
    }
   ],
   "source": [
    "#Use KMeans algorithm (do not use column CLASS) \n",
    "#use only columns A2-A10 - kdf- data frame with A2:A10\n",
    "kdf = slice_convert_mean_all\n",
    "#create KMeans model for n_cluster = 4\n",
    "# Create a KMeans instance with 4 clusters: model\n",
    "model = KMeans(n_clusters = 4)\n",
    "#fit model to your data\n",
    "model.fit(kdf)"
   ]
  },
  {
   "cell_type": "code",
   "execution_count": 2419,
   "metadata": {},
   "outputs": [],
   "source": [
    "#calculate centroids\n",
    "#Assign the cluster centers: centroids\n",
    "centroids = model.cluster_centers_"
   ]
  },
  {
   "cell_type": "code",
   "execution_count": 2420,
   "metadata": {},
   "outputs": [
    {
     "name": "stdout",
     "output_type": "stream",
     "text": [
      "[[2.97155361 1.25820569 1.3785558  1.3107221  2.0547046  1.35128199\n",
      "  2.07439825 1.21444201 1.10284464]\n",
      " [6.72151899 8.36708861 8.40506329 7.81012658 6.73417722 9.2278481\n",
      "  7.36708861 7.82278481 3.82278481]\n",
      " [7.53968254 7.46031746 7.04761905 4.3015873  5.93650794 3.6291106\n",
      "  5.61904762 7.25396825 2.19047619]\n",
      " [7.24       4.85       5.04       4.75       4.03       9.02544656\n",
      "  5.19       3.74       1.67      ]]\n"
     ]
    }
   ],
   "source": [
    "#print centroids\n",
    "print(centroids)"
   ]
  },
  {
   "cell_type": "code",
   "execution_count": 2421,
   "metadata": {},
   "outputs": [
    {
     "name": "stdout",
     "output_type": "stream",
     "text": [
      "15041.803937316581\n"
     ]
    }
   ],
   "source": [
    "print(model.inertia_)"
   ]
  },
  {
   "cell_type": "code",
   "execution_count": 2422,
   "metadata": {},
   "outputs": [],
   "source": [
    "#calculate inertia:\n",
    "#create a range from 1 to 15 or more\n",
    "ks = range(1,20)"
   ]
  },
  {
   "cell_type": "code",
   "execution_count": 2423,
   "metadata": {},
   "outputs": [],
   "source": [
    "#create an empty list for inertias values\n",
    "inertias = []"
   ]
  },
  {
   "cell_type": "code",
   "execution_count": 2424,
   "metadata": {},
   "outputs": [
    {
     "data": {
      "image/png": "[encoded data removed]",
      "text/plain": [
       "<Figure size 432x288 with 1 Axes>"
      ]
     },
     "metadata": {
      "needs_background": "light"
     },
     "output_type": "display_data"
    }
   ],
   "source": [
    "#use for loop to calculate KMeans for each values\n",
    "for k in ks:\n",
    "     # Create a KMeans instance with k clusters: model\n",
    "    model = KMeans(n_clusters = k)\n",
    "     # Fit model to samples\n",
    "    model.fit(slice_convert_mean_all)\n",
    "    # Append the inertia to the list of inertias\n",
    "    inertias.append(model.inertia_)\n",
    "# Plot ks vs inertias\n",
    "plt.plot(ks, inertias, '-o')\n",
    "plt.title('Optimum k curve')\n",
    "plt.xlabel('number of clusters, k')\n",
    "plt.ylabel('inertia')\n",
    "plt.xticks(ks)\n",
    "plt.show()"
   ]
  },
  {
   "cell_type": "code",
   "execution_count": 2440,
   "metadata": {},
   "outputs": [],
   "source": [
    "#The 'elbow' of the plot above is at k=5 indicating the optimal k for this dataset is 5"
   ]
  },
  {
   "cell_type": "code",
   "execution_count": 2426,
   "metadata": {},
   "outputs": [
    {
     "name": "stdout",
     "output_type": "stream",
     "text": [
      "A2     2.813726\n",
      "A3     3.049276\n",
      "A4     2.969786\n",
      "A5     2.853336\n",
      "A6     2.212715\n",
      "A7     3.599274\n",
      "A8     2.436619\n",
      "A9     3.051449\n",
      "A10    1.713851\n",
      "dtype: float64\n"
     ]
    }
   ],
   "source": [
    "#Revise data variation\n",
    "#apply standard deviation function for columns A2-A10\n",
    "# standard deviation of the dataframe\n",
    "gsd = np.std(kdf)\n",
    "print(gsd)"
   ]
  },
  {
   "cell_type": "code",
   "execution_count": 2427,
   "metadata": {},
   "outputs": [
    {
     "data": {
      "image/png": "[encoded data removed]",
      "text/plain": [
       "<Figure size 432x288 with 1 Axes>"
      ]
     },
     "metadata": {
      "needs_background": "light"
     },
     "output_type": "display_data"
    }
   ],
   "source": [
    "#plot standard deviation values - select a graphic that could display all nine values \n",
    "#[do not use histogram], add title, legend, ylabel, xlabel. \n",
    "#Can you capture how wide or narrow is the variation in each column?\n",
    "gsd.plot.bar(x='Types', y='Variances',title = 'Breast Cancer')\n",
    "plt.xlabel('Attributes')\n",
    "plt.ylabel('Standard Deviation')\n",
    "plt.show()"
   ]
  },
  {
   "cell_type": "code",
   "execution_count": 2428,
   "metadata": {},
   "outputs": [],
   "source": [
    "# Based on the above histogram, the variations of A3,A7 and A9 are wider than the rest. A7 has the widest variation whereas A10 has the narrowest"
   ]
  },
  {
   "cell_type": "code",
   "execution_count": 2429,
   "metadata": {},
   "outputs": [
    {
     "name": "stdout",
     "output_type": "stream",
     "text": [
      "[[-0.53065855 -0.62146235 -0.62309359 -0.53377982 -0.54254687 -0.61117516\n",
      "  -0.57277702 -0.55151419 -0.30639302]\n",
      " [ 0.85920045  1.66507969  1.62169595  1.49841657  1.35919265  1.21020769\n",
      "   1.6840579   1.47397297  0.15033128]\n",
      " [ 1.17836418  1.69401617  1.70356624  1.51628351  1.87581455  1.08040596\n",
      "   1.32515499  1.60570082  4.07109746]\n",
      " [ 0.92640534  0.49981011  0.56253531  0.87974434  0.29919161  1.5563375\n",
      "   0.75125578  0.1794824  -0.01659295]\n",
      " [ 1.07801576  0.92044768  0.9007092  -0.08349507  0.94802187  0.24981351\n",
      "   0.27097829  1.18738458  0.09083906]]\n"
     ]
    }
   ],
   "source": [
    "#Implement normalization\n",
    "#import make_pipeline \n",
    "#import StandardScaler\n",
    "from sklearn.pipeline import make_pipeline\n",
    "from sklearn.preprocessing import StandardScaler\n",
    "# Create scaler: scaler\n",
    "scaler = StandardScaler()\n",
    "#use the n_cluster based on the optimal number you have identified from Inertia\n",
    "kmodel = KMeans(n_clusters = 5)\n",
    "# Create pipeline: pipeline\n",
    "pipeline = make_pipeline(scaler,kmodel)\n",
    "# Fit the pipeline to model\n",
    "pipeline.fit(kdf)\n",
    "#Assign the cluster centers: centroids\n",
    "centroids = kmodel.cluster_centers_\n",
    "#print centroids\n",
    "print(centroids)"
   ]
  },
  {
   "cell_type": "code",
   "execution_count": 2430,
   "metadata": {},
   "outputs": [],
   "source": [
    "kmodel_phase3 = KMeans(n_clusters = 2, n_init=20, max_iter=500)"
   ]
  },
  {
   "cell_type": "code",
   "execution_count": 2431,
   "metadata": {
    "scrolled": true
   },
   "outputs": [
    {
     "data": {
      "text/plain": [
       "KMeans(algorithm='auto', copy_x=True, init='k-means++', max_iter=500,\n",
       "    n_clusters=2, n_init=20, n_jobs=1, precompute_distances='auto',\n",
       "    random_state=None, tol=0.0001, verbose=0)"
      ]
     },
     "execution_count": 2431,
     "metadata": {},
     "output_type": "execute_result"
    }
   ],
   "source": [
    "kmodel_phase3.fit(kdf)"
   ]
  },
  {
   "cell_type": "code",
   "execution_count": 2432,
   "metadata": {},
   "outputs": [],
   "source": [
    "labels = kmodel_phase3.labels_"
   ]
  },
  {
   "cell_type": "code",
   "execution_count": 2433,
   "metadata": {},
   "outputs": [
    {
     "name": "stdout",
     "output_type": "stream",
     "text": [
      "     A2  A3  A4  A5  A6         A7  A8  A9  A10  Labels\n",
      "0     5   1   1   1   2   1.000000   3   1    1       0\n",
      "1     5   4   4   5   7  10.000000   3   2    1       1\n",
      "2     3   1   1   1   2   2.000000   3   1    1       0\n",
      "3     6   8   8   1   3   4.000000   3   7    1       1\n",
      "4     4   1   1   3   2   1.000000   3   1    1       0\n",
      "5     8  10  10   8   7  10.000000   9   7    1       1\n",
      "6     1   1   1   1   2  10.000000   3   1    1       0\n",
      "7     2   1   2   1   2   1.000000   3   1    1       0\n",
      "8     2   1   1   1   2   1.000000   1   1    5       0\n",
      "9     4   2   1   1   2   1.000000   2   1    1       0\n",
      "10    1   1   1   1   1   1.000000   3   1    1       0\n",
      "11    2   1   1   1   2   1.000000   2   1    1       0\n",
      "12    5   3   3   3   2   3.000000   4   4    1       0\n",
      "13    1   1   1   1   2   3.000000   3   1    1       0\n",
      "14    8   7   5  10   7   9.000000   5   5    4       1\n",
      "15    7   4   6   4   6   1.000000   4   3    1       0\n",
      "16    4   1   1   1   2   1.000000   2   1    1       0\n",
      "17    4   1   1   1   2   1.000000   3   1    1       0\n",
      "18   10   7   7   6   4  10.000000   4   1    2       1\n",
      "19    6   1   1   1   2   1.000000   3   1    1       0\n",
      "20    7   3   2  10   5  10.000000   5   4    4       1\n",
      "21   10   5   5   3   6   7.000000   7  10    1       1\n",
      "22    3   1   1   1   2   1.000000   2   1    1       0\n",
      "23    8   4   5   1   2   3.544656   7   3    1       0\n",
      "24    1   1   1   1   2   1.000000   3   1    1       0\n",
      "25    5   2   3   4   2   7.000000   3   6    1       0\n",
      "26    3   2   1   1   1   1.000000   2   1    1       0\n",
      "27    5   1   1   1   2   1.000000   2   1    1       0\n",
      "28    2   1   1   1   2   1.000000   2   1    1       0\n",
      "29    1   1   3   1   2   1.000000   1   1    1       0\n",
      "..   ..  ..  ..  ..  ..        ...  ..  ..  ...     ...\n",
      "669   5  10  10   8   5   5.000000   7  10    1       1\n",
      "670   3  10   7   8   5   8.000000   7   4    1       1\n",
      "671   3   2   1   2   2   1.000000   3   1    1       0\n",
      "672   2   1   1   1   2   1.000000   3   1    1       0\n",
      "673   5   3   2   1   3   1.000000   1   1    1       0\n",
      "674   1   1   1   1   2   1.000000   2   1    1       0\n",
      "675   4   1   4   1   2   1.000000   1   1    1       0\n",
      "676   1   1   2   1   2   1.000000   2   1    1       0\n",
      "677   5   1   1   1   2   1.000000   1   1    1       0\n",
      "678   1   1   1   1   2   1.000000   1   1    1       0\n",
      "679   2   1   1   1   2   1.000000   1   1    1       0\n",
      "680  10  10  10  10   5  10.000000  10  10    7       1\n",
      "681   5  10  10  10   4  10.000000   5   6    3       1\n",
      "682   5   1   1   1   2   1.000000   3   2    1       0\n",
      "683   1   1   1   1   2   1.000000   1   1    1       0\n",
      "684   1   1   1   1   2   1.000000   1   1    1       0\n",
      "685   1   1   1   1   2   1.000000   1   1    1       0\n",
      "686   1   1   1   1   2   1.000000   1   1    1       0\n",
      "687   3   1   1   1   2   1.000000   2   3    1       0\n",
      "688   4   1   1   1   2   1.000000   1   1    1       0\n",
      "689   1   1   1   1   2   1.000000   1   1    8       0\n",
      "690   1   1   1   3   2   1.000000   1   1    1       0\n",
      "691   5  10  10   5   4   5.000000   4   4    1       1\n",
      "692   3   1   1   1   2   1.000000   1   1    1       0\n",
      "693   3   1   1   1   2   1.000000   2   1    2       0\n",
      "694   3   1   1   1   3   2.000000   1   1    1       0\n",
      "695   2   1   1   1   2   1.000000   1   1    1       0\n",
      "696   5  10  10   3   7   3.000000   8  10    2       1\n",
      "697   4   8   6   4   3   4.000000  10   6    1       1\n",
      "698   4   8   8   5   4   5.000000  10   4    1       1\n",
      "\n",
      "[699 rows x 10 columns]\n"
     ]
    }
   ],
   "source": [
    "kdf['Labels'] = labels\n",
    "print(kdf)"
   ]
  },
  {
   "cell_type": "code",
   "execution_count": 2434,
   "metadata": {},
   "outputs": [],
   "source": [
    "kdf['Labels']= kdf['Labels'].replace(0, 2)"
   ]
  },
  {
   "cell_type": "code",
   "execution_count": 2435,
   "metadata": {},
   "outputs": [],
   "source": [
    "kdf['Labels']= kdf['Labels'].replace(1, 4)"
   ]
  },
  {
   "cell_type": "code",
   "execution_count": 2436,
   "metadata": {},
   "outputs": [
    {
     "name": "stdout",
     "output_type": "stream",
     "text": [
      "    A2  A3  A4  A5  A6    A7  A8  A9  A10  Labels\n",
      "0    5   1   1   1   2   1.0   3   1    1       2\n",
      "1    5   4   4   5   7  10.0   3   2    1       4\n",
      "2    3   1   1   1   2   2.0   3   1    1       2\n",
      "3    6   8   8   1   3   4.0   3   7    1       4\n",
      "4    4   1   1   3   2   1.0   3   1    1       2\n",
      "5    8  10  10   8   7  10.0   9   7    1       4\n",
      "6    1   1   1   1   2  10.0   3   1    1       2\n",
      "7    2   1   2   1   2   1.0   3   1    1       2\n",
      "8    2   1   1   1   2   1.0   1   1    5       2\n",
      "9    4   2   1   1   2   1.0   2   1    1       2\n",
      "10   1   1   1   1   1   1.0   3   1    1       2\n",
      "11   2   1   1   1   2   1.0   2   1    1       2\n",
      "12   5   3   3   3   2   3.0   4   4    1       2\n",
      "13   1   1   1   1   2   3.0   3   1    1       2\n",
      "14   8   7   5  10   7   9.0   5   5    4       4\n"
     ]
    }
   ],
   "source": [
    "print(kdf.head(n=15))"
   ]
  },
  {
   "cell_type": "code",
   "execution_count": 2437,
   "metadata": {},
   "outputs": [
    {
     "name": "stdout",
     "output_type": "stream",
     "text": [
      "     A2  A3  A4  A5  A6         A7  A8  A9  A10  Labels  CLASS\n",
      "0     5   1   1   1   2   1.000000   3   1    1       2      2\n",
      "1     5   4   4   5   7  10.000000   3   2    1       4      2\n",
      "2     3   1   1   1   2   2.000000   3   1    1       2      2\n",
      "3     6   8   8   1   3   4.000000   3   7    1       4      2\n",
      "4     4   1   1   3   2   1.000000   3   1    1       2      2\n",
      "5     8  10  10   8   7  10.000000   9   7    1       4      4\n",
      "6     1   1   1   1   2  10.000000   3   1    1       2      2\n",
      "7     2   1   2   1   2   1.000000   3   1    1       2      2\n",
      "8     2   1   1   1   2   1.000000   1   1    5       2      2\n",
      "9     4   2   1   1   2   1.000000   2   1    1       2      2\n",
      "10    1   1   1   1   1   1.000000   3   1    1       2      2\n",
      "11    2   1   1   1   2   1.000000   2   1    1       2      2\n",
      "12    5   3   3   3   2   3.000000   4   4    1       2      4\n",
      "13    1   1   1   1   2   3.000000   3   1    1       2      2\n",
      "14    8   7   5  10   7   9.000000   5   5    4       4      4\n",
      "15    7   4   6   4   6   1.000000   4   3    1       2      4\n",
      "16    4   1   1   1   2   1.000000   2   1    1       2      2\n",
      "17    4   1   1   1   2   1.000000   3   1    1       2      2\n",
      "18   10   7   7   6   4  10.000000   4   1    2       4      4\n",
      "19    6   1   1   1   2   1.000000   3   1    1       2      2\n",
      "20    7   3   2  10   5  10.000000   5   4    4       4      4\n",
      "21   10   5   5   3   6   7.000000   7  10    1       4      4\n",
      "22    3   1   1   1   2   1.000000   2   1    1       2      2\n",
      "23    8   4   5   1   2   3.544656   7   3    1       2      4\n",
      "24    1   1   1   1   2   1.000000   3   1    1       2      2\n",
      "25    5   2   3   4   2   7.000000   3   6    1       2      4\n",
      "26    3   2   1   1   1   1.000000   2   1    1       2      2\n",
      "27    5   1   1   1   2   1.000000   2   1    1       2      2\n",
      "28    2   1   1   1   2   1.000000   2   1    1       2      2\n",
      "29    1   1   3   1   2   1.000000   1   1    1       2      2\n",
      "..   ..  ..  ..  ..  ..        ...  ..  ..  ...     ...    ...\n",
      "669   5  10  10   8   5   5.000000   7  10    1       4      4\n",
      "670   3  10   7   8   5   8.000000   7   4    1       4      4\n",
      "671   3   2   1   2   2   1.000000   3   1    1       2      2\n",
      "672   2   1   1   1   2   1.000000   3   1    1       2      2\n",
      "673   5   3   2   1   3   1.000000   1   1    1       2      2\n",
      "674   1   1   1   1   2   1.000000   2   1    1       2      2\n",
      "675   4   1   4   1   2   1.000000   1   1    1       2      2\n",
      "676   1   1   2   1   2   1.000000   2   1    1       2      2\n",
      "677   5   1   1   1   2   1.000000   1   1    1       2      2\n",
      "678   1   1   1   1   2   1.000000   1   1    1       2      2\n",
      "679   2   1   1   1   2   1.000000   1   1    1       2      2\n",
      "680  10  10  10  10   5  10.000000  10  10    7       4      4\n",
      "681   5  10  10  10   4  10.000000   5   6    3       4      4\n",
      "682   5   1   1   1   2   1.000000   3   2    1       2      2\n",
      "683   1   1   1   1   2   1.000000   1   1    1       2      2\n",
      "684   1   1   1   1   2   1.000000   1   1    1       2      2\n",
      "685   1   1   1   1   2   1.000000   1   1    1       2      2\n",
      "686   1   1   1   1   2   1.000000   1   1    1       2      2\n",
      "687   3   1   1   1   2   1.000000   2   3    1       2      2\n",
      "688   4   1   1   1   2   1.000000   1   1    1       2      2\n",
      "689   1   1   1   1   2   1.000000   1   1    8       2      2\n",
      "690   1   1   1   3   2   1.000000   1   1    1       2      2\n",
      "691   5  10  10   5   4   5.000000   4   4    1       4      4\n",
      "692   3   1   1   1   2   1.000000   1   1    1       2      2\n",
      "693   3   1   1   1   2   1.000000   2   1    2       2      2\n",
      "694   3   1   1   1   3   2.000000   1   1    1       2      2\n",
      "695   2   1   1   1   2   1.000000   1   1    1       2      2\n",
      "696   5  10  10   3   7   3.000000   8  10    2       4      4\n",
      "697   4   8   6   4   3   4.000000  10   6    1       4      4\n",
      "698   4   8   8   5   4   5.000000  10   4    1       4      4\n",
      "\n",
      "[699 rows x 11 columns]\n"
     ]
    }
   ],
   "source": [
    "kdf['CLASS'] = convert_mean_all['CLASS']\n",
    "print(kdf)"
   ]
  },
  {
   "cell_type": "code",
   "execution_count": 2439,
   "metadata": {},
   "outputs": [
    {
     "name": "stdout",
     "output_type": "stream",
     "text": [
      "error rate for benign: 0.023605150214592276\n",
      "error rate for malign: 0.0815450643776824\n",
      "Total error rate: 0.04291845493562232\n"
     ]
    }
   ],
   "source": [
    "def ErrorRate(a=kdf['Labels'], b=kdf['CLASS']):\n",
    "    error_B = len(kdf[(kdf['Labels']==4) & (kdf['CLASS']==2)]) / len(kdf[(kdf['Labels']==2)])\n",
    "    error_M = len(kdf[(kdf['Labels']==2) & (kdf['CLASS']==4)]) / len(kdf[(kdf['Labels']==4)])\n",
    "    error_T = len(kdf[(kdf['Labels']) != (kdf['CLASS'])]) / len(kdf)\n",
    "    print(\"error rate for benign:\", error_B)\n",
    "    print(\"error rate for malign:\",error_M)\n",
    "    print(\"Total error rate:\",error_T)\n",
    "ErrorRate(a,b)"
   ]
  },
  {
   "cell_type": "code",
   "execution_count": null,
   "metadata": {},
   "outputs": [],
   "source": [
    "##The project gave us good insight into a typical workflow of a Python project involving data frames, KMeans, plots and clusters. This also provided a great opportunity to collaborate and work as a team. While we fully appreciate that most of the coding can be optimized further, we believe that we have made a sincere effort to bring in the best of the knowledge elements within the team. There was a fair amount of learning involved in the are pipeline building, fitting to models etc. We have also learned how to read data from a file, cleaned, transformed, tried to understand the variations in the data. However, we still believe we need to do practice many more such projects to become versatile with the nuances of Python. Also, we wish we had some more inputs on the theoretical framework around K-means, clustering etc. "
   ]
  }
 ],
 "metadata": {
  "kernelspec": {
   "display_name": "Python 3",
   "language": "python",
   "name": "python3"
  },
  "language_info": {
   "codemirror_mode": {
    "name": "ipython",
    "version": 3
   },
   "file_extension": ".py",
   "mimetype": "text/x-python",
   "name": "python",
   "nbconvert_exporter": "python",
   "pygments_lexer": "ipython3",
   "version": "3.7.0"
  }
 },
 "nbformat": 4,
 "nbformat_minor": 2
}
